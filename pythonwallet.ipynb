{
 "cells": [
  {
   "cell_type": "markdown",
   "metadata": {
    "id": "egkMABlKNXSg"
   },
   "source": [
    "## Wallet App Simulator\n",
    "- Execute each cell with Crtl+Enter\n",
    "- Two cells will ask for an input. Make sure the respective QR (init, DCC) is visible on scree next to this browser window\n",
    "\n",
    "\n",
    "Install libraries if you run this notebook for the first time"
   ]
  },
  {
   "cell_type": "code",
   "execution_count": null,
   "metadata": {
    "id": "NSmM4KBMNgCO"
   },
   "outputs": [],
   "source": [
    "!pip install pyjwt cryptography protobuf pycryptodome pyjwt ecdsa\n"
   ]
  },
  {
   "cell_type": "markdown",
   "metadata": {
    "id": "ko6ytm4fNiX3"
   },
   "source": [
    "### Scan a QR code\n",
    "\n",
    "Create a process in the booking portal. Match the personal data (firstname, lastname) with a valid DCC that you have. \n",
    "Make sure the init QR displays next to this browser windoW\n",
    "\n",
    "Run the code cell with Crtl+Enter. \n",
    "\n",
    "The code will print the decoded token which is embedded in the QR code."
   ]
  },
  {
   "cell_type": "code",
   "execution_count": null,
   "metadata": {
    "colab": {
     "base_uri": "https://localhost:8080/"
    },
    "executionInfo": {
     "elapsed": 2759,
     "status": "ok",
     "timestamp": 1638869295211,
     "user": {
      "displayName": "Christian Loch",
      "photoUrl": "https://lh3.googleusercontent.com/a-/AOh14GjAmX46fUcTMJyrtWVJ5bxckwBNgRQcv7KFv1wAcg=s64",
      "userId": "17801403236031921492"
     },
     "user_tz": -60
    },
    "id": "iUwpsWDOM3fR",
    "outputId": "15e50e9e-da76-4c9b-c3fb-d1afe24eb46a"
   },
   "outputs": [],
   "source": [
    "import pyautogui\n",
    "import requests\n",
    "import json\n",
    "import jwt\n",
    "from pyzbar.pyzbar import decode as qr_decode\n",
    "\n",
    "# Before running this box, make sure that the init QR code of the booking system is visible \n",
    "# on the main screen. \n",
    "\n",
    "screenshot = pyautogui.screenshot()\n",
    "print(screenshot)\n",
    "qr_code = qr_decode(screenshot)[0] # First QR Code on screen. Change index to select different QR code!\n",
    "qr_code_data =  json.loads(qr_code.data.decode())\n",
    "print(f\"QR-Code data: {json.dumps(qr_code_data, indent=4)}\")\n",
    "token_info = jwt.decode(qr_code_data['token'], options={\"verify_signature\":False})\n",
    "print(f\"Token: {token_info}\")\n"
   ]
  },
  {
   "cell_type": "markdown",
   "metadata": {
    "id": "pS3X98D0NpC6"
   },
   "source": [
    "### Init QR code handling by wallet app\n",
    "The QR code is ingested by the wallet app. \n",
    "\n",
    "First step is to query directory of validation services for recommendation. A call to /identity returns options\n",
    "\n",
    "The user is prompted to enter her choice (1,2,3, etc)\n",
    "\n",
    "With that information, the wallet app does the following:\n",
    " - get the endpoint for the validation service\n",
    " - request an access token from the token service by sending a freshly generated public key\n",
    "    - the keypair is saved for later to sign the DCC upload\n",
    "    - together with the access token, a nonce for encryption is obtained"
   ]
  },
  {
   "cell_type": "code",
   "execution_count": null,
   "metadata": {
    "colab": {
     "base_uri": "https://localhost:8080/"
    },
    "executionInfo": {
     "elapsed": 1454,
     "status": "ok",
     "timestamp": 1638869300688,
     "user": {
      "displayName": "Christian Loch",
      "photoUrl": "https://lh3.googleusercontent.com/a-/AOh14GjAmX46fUcTMJyrtWVJ5bxckwBNgRQcv7KFv1wAcg=s64",
      "userId": "17801403236031921492"
     },
     "user_tz": -60
    },
    "id": "FpaTHuYPNr-K",
    "outputId": "2b34dcd2-ae90-4282-c2f6-7b47cbe7b230"
   },
   "outputs": [],
   "source": [
    "import ecdsa\n",
    "import base64\n",
    "from Crypto.Hash import SHA256\n",
    "from ecdsa.curves import NIST256p\n",
    "\n",
    "# Load the identity document \n",
    "serviceIdentity = requests.get( qr_code_data['serviceIdentity'] ).json()\n",
    "\n",
    "# Get the information from the identity document. Identity contents\n",
    "## service, i.e. which providers offer validation\n",
    "## verification method, cryptographic material\n",
    "\n",
    "validationlist=[];\n",
    "for service in serviceIdentity['service']:\n",
    "    \n",
    "    # This should not always be 'ValidationService-1' but the current service\n",
    "    # depending on rules and requirements\n",
    "    if service['id'].find('#ValidationService')>0: \n",
    "        validatonlist.append(service);\n",
    "        validation_service_id = service['id']        \n",
    "        print(f\"Validation ServiceID {validation_service_id}\") \n",
    "#print(validationlist) \n",
    "print(\"make your choice\")\n",
    "                              \n",
    " \n"
   ]
  },
  {
   "cell_type": "code",
   "execution_count": null,
   "metadata": {},
   "outputs": [],
   "source": [
    "import ecdsa\n",
    "import base64\n",
    "from Crypto.Hash import SHA256\n",
    "from ecdsa.curves import NIST256p\n",
    "\n",
    "choice = input('Please enter number of service you have chosen (1,2,3): ').strip()  # This picks up the validation service\n",
    "#do something with outcome of choice, \n",
    "\n",
    "\n",
    "#nex step is to request validation service keeper what proof has to be delivered from DCC-s in wallet\n",
    "# the request for proof is embedded in access token to validation service\n",
    "\n",
    "userkey = ecdsa.SigningKey.generate(curve=NIST256p,hashfunc=SHA256.new) #create wallet key-pair to sign the DCC on upload\n",
    "\n",
    "    # App should select the latest AccessTokenService here (not sure why, but only #1 is available)\n",
    "for service in serviceIdentity['service']:\n",
    "    if service['id'].endswith('#AccessTokenService-1'):\n",
    "        response = requests.post( service['serviceEndpoint'], \n",
    "                    headers={'Authorization': f'Bearer {qr_code_data[\"token\"]}', #initR-token goes here\n",
    "                             'Content-Type':'application/json', \n",
    "                             'X-Version' : '1.0'},\n",
    "                    json = {\"pubKey\": userkey.get_verifying_key().to_pem().decode(), \n",
    "                                    #advise pub key to validation service for inspection of signature on DCC\n",
    "                            \"service\":validation_service_id}\n",
    "                                     #advise chosen validation service\n",
    "        )\n",
    " #       print (\"Undecoded Response\", response.status_code, response.text, '\\n\\n')\n",
    "        \n",
    "        # This is the access token for the validation service\n",
    "        validator_token = response.text     \n",
    "        validation_nonce = response.headers['x-nonce']\n",
    "        \n",
    "        token_info = jwt.decode(validator_token, options={\"verify_signature\":False})\n",
    "        print(f\"Token: {json.dumps(token_info, indent=4)}\")\n",
    "\n",
    "\n"
   ]
  },
  {
   "cell_type": "markdown",
   "metadata": {
    "id": "5dR-SCyjNsw4"
   },
   "source": [
    "### Get the public key from the validation service\n",
    "With the validation service endpoint that has been extracted from the decorator's identity document, we now load the validation service's identity document too to obtain its public key for encryption. "
   ]
  },
  {
   "cell_type": "code",
   "execution_count": 13,
   "metadata": {
    "colab": {
     "base_uri": "https://localhost:8080/"
    },
    "executionInfo": {
     "elapsed": 643,
     "status": "ok",
     "timestamp": 1638869306111,
     "user": {
      "displayName": "Christian Loch",
      "photoUrl": "https://lh3.googleusercontent.com/a-/AOh14GjAmX46fUcTMJyrtWVJ5bxckwBNgRQcv7KFv1wAcg=s64",
      "userId": "17801403236031921492"
     },
     "user_tz": -60
    },
    "id": "wb2ZAPnRNvkr",
    "outputId": "84704569-02b7-4c41-c32a-225a4a9d9334"
   },
   "outputs": [
    {
     "ename": "KeyError",
     "evalue": "'verificationMethod'",
     "output_type": "error",
     "traceback": [
      "\u001b[1;31m---------------------------------------------------------------------------\u001b[0m",
      "\u001b[1;31mKeyError\u001b[0m                                  Traceback (most recent call last)",
      "\u001b[1;32m~\\AppData\\Local\\Temp/ipykernel_20440/1098446633.py\u001b[0m in \u001b[0;36m<module>\u001b[1;34m\u001b[0m\n\u001b[0;32m      1\u001b[0m \u001b[0mvalidation_identity\u001b[0m \u001b[1;33m=\u001b[0m \u001b[0mrequests\u001b[0m\u001b[1;33m.\u001b[0m\u001b[0mget\u001b[0m\u001b[1;33m(\u001b[0m\u001b[0mvalidation_service_endpoint\u001b[0m\u001b[1;33m+\u001b[0m\u001b[1;34m'/identity'\u001b[0m\u001b[1;33m)\u001b[0m\u001b[1;33m.\u001b[0m\u001b[0mjson\u001b[0m\u001b[1;33m(\u001b[0m\u001b[1;33m)\u001b[0m\u001b[1;33m\u001b[0m\u001b[1;33m\u001b[0m\u001b[0m\n\u001b[0;32m      2\u001b[0m \u001b[1;33m\u001b[0m\u001b[0m\n\u001b[1;32m----> 3\u001b[1;33m \u001b[1;32mfor\u001b[0m \u001b[0mverificationMethod\u001b[0m \u001b[1;32min\u001b[0m \u001b[0mvalidation_identity\u001b[0m\u001b[1;33m[\u001b[0m\u001b[1;34m'verificationMethod'\u001b[0m\u001b[1;33m]\u001b[0m\u001b[1;33m:\u001b[0m\u001b[1;33m\u001b[0m\u001b[1;33m\u001b[0m\u001b[0m\n\u001b[0m\u001b[0;32m      4\u001b[0m     \u001b[1;32mif\u001b[0m \u001b[0mverificationMethod\u001b[0m\u001b[1;33m[\u001b[0m\u001b[1;34m'id'\u001b[0m\u001b[1;33m]\u001b[0m\u001b[1;33m.\u001b[0m\u001b[0mendswith\u001b[0m\u001b[1;33m(\u001b[0m\u001b[1;34m'ValidationServiceEncKey-1'\u001b[0m\u001b[1;33m)\u001b[0m\u001b[1;33m:\u001b[0m\u001b[1;33m\u001b[0m\u001b[1;33m\u001b[0m\u001b[0m\n\u001b[0;32m      5\u001b[0m         \u001b[0mvalidation_service_publickey\u001b[0m \u001b[1;33m=\u001b[0m  \u001b[0mverificationMethod\u001b[0m\u001b[1;33m[\u001b[0m\u001b[1;34m'publicKeyJwk'\u001b[0m\u001b[1;33m]\u001b[0m\u001b[1;33m\u001b[0m\u001b[1;33m\u001b[0m\u001b[0m\n",
      "\u001b[1;31mKeyError\u001b[0m: 'verificationMethod'"
     ]
    }
   ],
   "source": [
    "validation_identity = requests.get(validation_service_endpoint+'/identity').json()\n",
    "\n",
    "for verificationMethod in validation_identity['verificationMethod']:\n",
    "    if verificationMethod['id'].endswith('ValidationServiceEncKey-1'):\n",
    "        validation_service_publickey =  verificationMethod['publicKeyJwk']\n",
    "        print(\"Selected Public Key:\", validation_service_publickey )"
   ]
  },
  {
   "cell_type": "markdown",
   "metadata": {
    "id": "vCztNXDnNxP6"
   },
   "source": [
    "### Submit the health certificate\n",
    "You can either enter the health certificate data into an input field or scan a DCC-QR-Code from screen. Comment or uncomment the first lines according to the behavior that you prefer. Make sure that the name and date-of-birth match the data in the token from above. \n",
    "\n",
    "The wallet app now executes the following steps: \n",
    "- choose a random password (32 bytes)\n",
    "- AES-encrypt the DCC with the password from above and the nonce that was obtained together with the access token \n",
    "- encrypt the password with the validation service's public key \n",
    "- sign the encrypted AES-encrypted data with the userkey that has been submitted to get the access token\n",
    "- send JSON data to the validation service:\n",
    "   - kid of validation server's public key that was used to encrypt password\n",
    "   - encrypted dcc data\n",
    "   - signature of encrypted dcc data\n",
    "   - PKI encrypted password for dcc\n",
    "   - constants: encScheme = RSAOAEPWithSHA256AESCBC, sigAlg = SHA256withECDSA\n",
    "   - header: Access token that was previously obtained\n",
    "- decode the response and print it"
   ]
  },
  {
   "cell_type": "code",
   "execution_count": null,
   "metadata": {
    "colab": {
     "base_uri": "https://localhost:8080/"
    },
    "executionInfo": {
     "elapsed": 23122,
     "status": "ok",
     "timestamp": 1638869335424,
     "user": {
      "displayName": "Christian Loch",
      "photoUrl": "https://lh3.googleusercontent.com/a-/AOh14GjAmX46fUcTMJyrtWVJ5bxckwBNgRQcv7KFv1wAcg=s64",
      "userId": "17801403236031921492"
     },
     "user_tz": -60
    },
    "id": "pZ4LITwAN0T3",
    "outputId": "b4c05a0f-df58-4475-eea7-35c8050905b6"
   },
   "outputs": [],
   "source": [
    "#hcert = input('Please paste your HCert: ').strip()  # Option 1: Enter the HC1:-String into the input field\n",
    "screenshot = pyautogui.screenshot()                   # Option 2: Scan a DCC-QR-Code from screen\n",
    "hcert = qr_decode(screenshot)[0].data.decode()        # Option 2 continued\n",
    "#hcert = input('Please paste your HCert: ').strip()  \n",
    "assert hcert.startswith('HC1:')\n",
    "\n",
    "from base64 import b64decode\n",
    "from random import randint\n",
    "from Crypto.Cipher import PKCS1_OAEP\n",
    "from Crypto.PublicKey import RSA\n",
    "from Crypto.Cipher import AES\n",
    "from Crypto.Util.Padding import pad\n",
    "from ecdsa.util import sigencode_der\n",
    "\n",
    "# Use real random numbers for production instead!\n",
    "password = bytearray([randint(0,255) for i in range(32)])\n",
    "\n",
    "validatorkey = RSA.import_key(f'-----BEGIN CERTIFICATE-----\\n{validation_service_publickey[\"x5c\"]}\\n-----END CERTIFICATE-----')\n",
    "aesCipher = AES.new(password, AES.MODE_CBC,iv=b64decode(validation_nonce))\n",
    "\n",
    "cipher = PKCS1_OAEP.new(validatorkey,hashAlgo=SHA256)\n",
    "cryptKey = cipher.encrypt(password)\n",
    "ciphertext= aesCipher.encrypt(pad(bytes(hcert,'utf-8'),AES.block_size))\n",
    "signature = userkey.sign(ciphertext,hashfunc=SHA256.new,sigencode=sigencode_der)\n",
    "\n",
    "headers = {'content-type': 'application/json', \"Authorization\":\"Bearer \" + validator_token ,\"X-Version\":\"1.0\"}\n",
    "\n",
    "body = {\"kid\":validation_service_publickey[\"kid\"],\n",
    "        \"dcc\":base64.b64encode(ciphertext).decode(),\n",
    "        \"sig\":base64.b64encode(signature).decode(),\n",
    "        \"encKey\":base64.b64encode(cryptKey).decode(),\n",
    "        \"encScheme\":\"RSAOAEPWithSHA256AESCBC\",\n",
    "        \"sigAlg\":\"SHA256withECDSA\"}\n",
    "\n",
    "headers = {'content-type': 'application/json', \"Authorization\":\"Bearer \" +validator_token,\"X-Version\":\"1.0\"}\n",
    "response = requests.post(token_info['aud'], data=json.dumps(body), headers=headers)\n",
    "print (\"Undecoded Response\", response.status_code, response.text, '\\n\\n')\n",
    "if response.ok:\n",
    "    validate_result = jwt.decode(response.content, options={\"verify_signature\":False})\n",
    "    print(f'Validate result message: {json.dumps(validate_result, indent=4)}')"
   ]
  },
  {
   "cell_type": "code",
   "execution_count": null,
   "metadata": {},
   "outputs": [],
   "source": []
  }
 ],
 "metadata": {
  "colab": {
   "authorship_tag": "ABX9TyOhAxKpSAoG1547zgVnYQXt",
   "collapsed_sections": [],
   "name": "Wallet App Simulator.ipynb",
   "provenance": []
  },
  "kernelspec": {
   "display_name": "Python 3 (ipykernel)",
   "language": "python",
   "name": "python3"
  },
  "language_info": {
   "codemirror_mode": {
    "name": "ipython",
    "version": 3
   },
   "file_extension": ".py",
   "mimetype": "text/x-python",
   "name": "python",
   "nbconvert_exporter": "python",
   "pygments_lexer": "ipython3",
   "version": "3.9.9"
  }
 },
 "nbformat": 4,
 "nbformat_minor": 1
}

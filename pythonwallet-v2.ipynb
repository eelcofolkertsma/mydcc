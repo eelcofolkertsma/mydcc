{
  "cells": [
    {
      "cell_type": "markdown",
      "metadata": {
        "id": "egkMABlKNXSg"
      },
      "source": [
        "## NL Wallet App Simulator\n",
        "This application assumes an airline landing page and a running validation service\n",
        "\n",
        "- Execute each cell with Crtl+Enter or click on \"run this cell\" icon\n",
        "- Two cells will ask for an input, invitation and DCC \n",
        "\n",
        "Install libraries (first cell) if you do initial run of this notebook"
      ]
    },
    {
      "cell_type": "code",
      "execution_count": 12,
      "metadata": {
        "id": "NSmM4KBMNgCO",
        "colab": {
          "base_uri": "https://localhost:8080/"
        },
        "outputId": "46585472-2a92-47ea-d1e9-1c7f45203f7e"
      },
      "outputs": [
        {
          "output_type": "stream",
          "name": "stdout",
          "text": [
            "Looking in indexes: https://pypi.org/simple, https://us-python.pkg.dev/colab-wheels/public/simple/\n",
            "Requirement already satisfied: pyjwt in /usr/local/lib/python3.7/dist-packages (2.4.0)\n",
            "Requirement already satisfied: cryptography in /usr/local/lib/python3.7/dist-packages (37.0.2)\n",
            "Requirement already satisfied: protobuf in /usr/local/lib/python3.7/dist-packages (3.17.3)\n",
            "Requirement already satisfied: pycryptodome in /usr/local/lib/python3.7/dist-packages (3.14.1)\n",
            "Requirement already satisfied: ecdsa in /usr/local/lib/python3.7/dist-packages (0.17.0)\n",
            "Requirement already satisfied: cffi>=1.12 in /usr/local/lib/python3.7/dist-packages (from cryptography) (1.15.0)\n",
            "Requirement already satisfied: pycparser in /usr/local/lib/python3.7/dist-packages (from cffi>=1.12->cryptography) (2.21)\n",
            "Requirement already satisfied: six>=1.9 in /usr/local/lib/python3.7/dist-packages (from protobuf) (1.15.0)\n"
          ]
        }
      ],
      "source": [
        "!pip install pyjwt cryptography protobuf pycryptodome ecdsa\n"
      ]
    },
    {
      "cell_type": "markdown",
      "metadata": {
        "id": "ko6ytm4fNiX3"
      },
      "source": [
        "### Ingest an invitation\n",
        "\n",
        "Identify yourself at an airline (e.g. https://pinggg.mywire.org/static-v2) to obtain an invitation for validation. \n",
        "\n",
        "Grab the invitation string from url to wallet and paste in input-box, e.g. right-click on hyperlink, copy link, paste in input field, use home button to go to start of input, use shift plus right-arrow to select part of path that is not relevant (ends usually in /process/). <br>\n",
        "Or alternative: Open QR-code in Google-lens and \"copy text\" to capture the invitation string.\n",
        "\n",
        "### Handling by wallet app\n",
        "The wallet app processes the invitation:\n",
        "\n",
        "1.   The wallet gets airline identity document to learn airline endpoints\n",
        "2. Next to identity there is an endpoint to exchange token in invitation for a token that gives access to validation service (validation access token is obtained in two step process so initial token can be small in size and rendered as QR) \n",
        "1. And there is an endpoint at airline for wallet to share result of DCCs validaton\n"
      ]
    },
    {
      "cell_type": "code",
      "execution_count": 14,
      "metadata": {
        "colab": {
          "base_uri": "https://localhost:8080/",
          "height": 536
        },
        "id": "iUwpsWDOM3fR",
        "outputId": "a425582d-e311-4d28-f556-ccf9df7b407f"
      },
      "outputs": [
        {
          "output_type": "error",
          "ename": "KeyboardInterrupt",
          "evalue": "ignored",
          "traceback": [
            "\u001b[0;31m---------------------------------------------------------------------------\u001b[0m",
            "\u001b[0;31mKeyboardInterrupt\u001b[0m                         Traceback (most recent call last)",
            "\u001b[0;32m/usr/local/lib/python3.7/dist-packages/ipykernel/kernelbase.py\u001b[0m in \u001b[0;36m_input_request\u001b[0;34m(self, prompt, ident, parent, password)\u001b[0m\n\u001b[1;32m    728\u001b[0m             \u001b[0;32mtry\u001b[0m\u001b[0;34m:\u001b[0m\u001b[0;34m\u001b[0m\u001b[0;34m\u001b[0m\u001b[0m\n\u001b[0;32m--> 729\u001b[0;31m                 \u001b[0mident\u001b[0m\u001b[0;34m,\u001b[0m \u001b[0mreply\u001b[0m \u001b[0;34m=\u001b[0m \u001b[0mself\u001b[0m\u001b[0;34m.\u001b[0m\u001b[0msession\u001b[0m\u001b[0;34m.\u001b[0m\u001b[0mrecv\u001b[0m\u001b[0;34m(\u001b[0m\u001b[0mself\u001b[0m\u001b[0;34m.\u001b[0m\u001b[0mstdin_socket\u001b[0m\u001b[0;34m,\u001b[0m \u001b[0;36m0\u001b[0m\u001b[0;34m)\u001b[0m\u001b[0;34m\u001b[0m\u001b[0;34m\u001b[0m\u001b[0m\n\u001b[0m\u001b[1;32m    730\u001b[0m             \u001b[0;32mexcept\u001b[0m \u001b[0mException\u001b[0m\u001b[0;34m:\u001b[0m\u001b[0;34m\u001b[0m\u001b[0;34m\u001b[0m\u001b[0m\n",
            "\u001b[0;32m/usr/local/lib/python3.7/dist-packages/jupyter_client/session.py\u001b[0m in \u001b[0;36mrecv\u001b[0;34m(self, socket, mode, content, copy)\u001b[0m\n\u001b[1;32m    802\u001b[0m         \u001b[0;32mtry\u001b[0m\u001b[0;34m:\u001b[0m\u001b[0;34m\u001b[0m\u001b[0;34m\u001b[0m\u001b[0m\n\u001b[0;32m--> 803\u001b[0;31m             \u001b[0mmsg_list\u001b[0m \u001b[0;34m=\u001b[0m \u001b[0msocket\u001b[0m\u001b[0;34m.\u001b[0m\u001b[0mrecv_multipart\u001b[0m\u001b[0;34m(\u001b[0m\u001b[0mmode\u001b[0m\u001b[0;34m,\u001b[0m \u001b[0mcopy\u001b[0m\u001b[0;34m=\u001b[0m\u001b[0mcopy\u001b[0m\u001b[0;34m)\u001b[0m\u001b[0;34m\u001b[0m\u001b[0;34m\u001b[0m\u001b[0m\n\u001b[0m\u001b[1;32m    804\u001b[0m         \u001b[0;32mexcept\u001b[0m \u001b[0mzmq\u001b[0m\u001b[0;34m.\u001b[0m\u001b[0mZMQError\u001b[0m \u001b[0;32mas\u001b[0m \u001b[0me\u001b[0m\u001b[0;34m:\u001b[0m\u001b[0;34m\u001b[0m\u001b[0;34m\u001b[0m\u001b[0m\n",
            "\u001b[0;32m/usr/local/lib/python3.7/dist-packages/zmq/sugar/socket.py\u001b[0m in \u001b[0;36mrecv_multipart\u001b[0;34m(self, flags, copy, track)\u001b[0m\n\u001b[1;32m    726\u001b[0m         \"\"\"\n\u001b[0;32m--> 727\u001b[0;31m         \u001b[0mparts\u001b[0m \u001b[0;34m=\u001b[0m \u001b[0;34m[\u001b[0m\u001b[0mself\u001b[0m\u001b[0;34m.\u001b[0m\u001b[0mrecv\u001b[0m\u001b[0;34m(\u001b[0m\u001b[0mflags\u001b[0m\u001b[0;34m,\u001b[0m \u001b[0mcopy\u001b[0m\u001b[0;34m=\u001b[0m\u001b[0mcopy\u001b[0m\u001b[0;34m,\u001b[0m \u001b[0mtrack\u001b[0m\u001b[0;34m=\u001b[0m\u001b[0mtrack\u001b[0m\u001b[0;34m)\u001b[0m\u001b[0;34m]\u001b[0m\u001b[0;34m\u001b[0m\u001b[0;34m\u001b[0m\u001b[0m\n\u001b[0m\u001b[1;32m    728\u001b[0m         \u001b[0;31m# have first part already, only loop while more to receive\u001b[0m\u001b[0;34m\u001b[0m\u001b[0;34m\u001b[0m\u001b[0;34m\u001b[0m\u001b[0m\n",
            "\u001b[0;32mzmq/backend/cython/socket.pyx\u001b[0m in \u001b[0;36mzmq.backend.cython.socket.Socket.recv\u001b[0;34m()\u001b[0m\n",
            "\u001b[0;32mzmq/backend/cython/socket.pyx\u001b[0m in \u001b[0;36mzmq.backend.cython.socket.Socket.recv\u001b[0;34m()\u001b[0m\n",
            "\u001b[0;32mzmq/backend/cython/socket.pyx\u001b[0m in \u001b[0;36mzmq.backend.cython.socket._recv_copy\u001b[0;34m()\u001b[0m\n",
            "\u001b[0;32m/usr/local/lib/python3.7/dist-packages/zmq/backend/cython/checkrc.pxd\u001b[0m in \u001b[0;36mzmq.backend.cython.checkrc._check_rc\u001b[0;34m()\u001b[0m\n",
            "\u001b[0;31mKeyboardInterrupt\u001b[0m: ",
            "\nDuring handling of the above exception, another exception occurred:\n",
            "\u001b[0;31mKeyboardInterrupt\u001b[0m                         Traceback (most recent call last)",
            "\u001b[0;32m<ipython-input-14-88841e5dde93>\u001b[0m in \u001b[0;36m<module>\u001b[0;34m()\u001b[0m\n\u001b[1;32m      4\u001b[0m \u001b[0;32mimport\u001b[0m \u001b[0mbase64\u001b[0m\u001b[0;34m\u001b[0m\u001b[0;34m\u001b[0m\u001b[0m\n\u001b[1;32m      5\u001b[0m \u001b[0;34m\u001b[0m\u001b[0m\n\u001b[0;32m----> 6\u001b[0;31m \u001b[0minvite\u001b[0m \u001b[0;34m=\u001b[0m \u001b[0minput\u001b[0m\u001b[0;34m(\u001b[0m\u001b[0;34m'Paste readable Invitation string contents here: '\u001b[0m\u001b[0;34m)\u001b[0m\u001b[0;34m\u001b[0m\u001b[0;34m\u001b[0m\u001b[0m\n\u001b[0m\u001b[1;32m      7\u001b[0m \u001b[0;31m#skip base64 decompress to avoid issue with TV airline stub\u001b[0m\u001b[0;34m\u001b[0m\u001b[0;34m\u001b[0m\u001b[0;34m\u001b[0m\u001b[0m\n\u001b[1;32m      8\u001b[0m \u001b[0mbase64_message\u001b[0m \u001b[0;34m=\u001b[0m \u001b[0minvite\u001b[0m\u001b[0;34m\u001b[0m\u001b[0;34m\u001b[0m\u001b[0m\n",
            "\u001b[0;32m/usr/local/lib/python3.7/dist-packages/ipykernel/kernelbase.py\u001b[0m in \u001b[0;36mraw_input\u001b[0;34m(self, prompt)\u001b[0m\n\u001b[1;32m    702\u001b[0m             \u001b[0mself\u001b[0m\u001b[0;34m.\u001b[0m\u001b[0m_parent_ident\u001b[0m\u001b[0;34m,\u001b[0m\u001b[0;34m\u001b[0m\u001b[0;34m\u001b[0m\u001b[0m\n\u001b[1;32m    703\u001b[0m             \u001b[0mself\u001b[0m\u001b[0;34m.\u001b[0m\u001b[0m_parent_header\u001b[0m\u001b[0;34m,\u001b[0m\u001b[0;34m\u001b[0m\u001b[0;34m\u001b[0m\u001b[0m\n\u001b[0;32m--> 704\u001b[0;31m             \u001b[0mpassword\u001b[0m\u001b[0;34m=\u001b[0m\u001b[0;32mFalse\u001b[0m\u001b[0;34m,\u001b[0m\u001b[0;34m\u001b[0m\u001b[0;34m\u001b[0m\u001b[0m\n\u001b[0m\u001b[1;32m    705\u001b[0m         )\n\u001b[1;32m    706\u001b[0m \u001b[0;34m\u001b[0m\u001b[0m\n",
            "\u001b[0;32m/usr/local/lib/python3.7/dist-packages/ipykernel/kernelbase.py\u001b[0m in \u001b[0;36m_input_request\u001b[0;34m(self, prompt, ident, parent, password)\u001b[0m\n\u001b[1;32m    732\u001b[0m             \u001b[0;32mexcept\u001b[0m \u001b[0mKeyboardInterrupt\u001b[0m\u001b[0;34m:\u001b[0m\u001b[0;34m\u001b[0m\u001b[0;34m\u001b[0m\u001b[0m\n\u001b[1;32m    733\u001b[0m                 \u001b[0;31m# re-raise KeyboardInterrupt, to truncate traceback\u001b[0m\u001b[0;34m\u001b[0m\u001b[0;34m\u001b[0m\u001b[0;34m\u001b[0m\u001b[0m\n\u001b[0;32m--> 734\u001b[0;31m                 \u001b[0;32mraise\u001b[0m \u001b[0mKeyboardInterrupt\u001b[0m\u001b[0;34m\u001b[0m\u001b[0;34m\u001b[0m\u001b[0m\n\u001b[0m\u001b[1;32m    735\u001b[0m             \u001b[0;32melse\u001b[0m\u001b[0;34m:\u001b[0m\u001b[0;34m\u001b[0m\u001b[0;34m\u001b[0m\u001b[0m\n\u001b[1;32m    736\u001b[0m                 \u001b[0;32mbreak\u001b[0m\u001b[0;34m\u001b[0m\u001b[0;34m\u001b[0m\u001b[0m\n",
            "\u001b[0;31mKeyboardInterrupt\u001b[0m: "
          ]
        }
      ],
      "source": [
        "import requests\n",
        "import json\n",
        "import jwt\n",
        "import base64\n",
        "\n",
        "invite = input('Paste Invitation string contents here: ')\n",
        "base64_message = invite\n",
        "base64_bytes = base64_message.encode('utf-8')\n",
        "message_bytes = base64.b64decode(base64_bytes)\n",
        "qr_code = message_bytes.decode('utf-8')\n",
        "\n",
        "qr_code_data =  json.loads(qr_code)\n",
        "print(f\"QR-Code data: {json.dumps(qr_code_data, indent=4)}\")\n",
        "\n",
        "token_info = jwt.decode(qr_code_data['token'], options={\"verify_signature\":False})\n",
        "print(f\"Invitation-token: {token_info}\")\n",
        "\n",
        "# Load the airline identity document \n",
        "serviceIdentity = requests.get( qr_code_data['serviceIdentity'] ).json()\n",
        "\n",
        "# Get the information from the identity document. Identity contents\n",
        "## services, i.e. airline endpoint to get validation access token and to return confirmation token, and (list of) providers that offer validation\n",
        "## verification methods, public keys to validate signatures or for use in encryption \n",
        "\n",
        "\n"
      ]
    },
    {
      "cell_type": "markdown",
      "source": [
        "#Wallet gets the validation access token\n",
        "which packs travel data and some instructions for type of validation that is expected. \n",
        "- The endpoint to get access token is determined from the airline identity document\n",
        "- The request is authenticated with invitation-token (so links back to booking and passenger)\n",
        "\n",
        "Under EU-DCC-validation protocol (but not implemented by us)\n",
        "- The wallet advises its one-time identity, not sure why??\n",
        "- The airline hands back validation access token and a nonce (nonce, why??)"
      ],
      "metadata": {
        "id": "1EeQebVSELRV"
      }
    },
    {
      "cell_type": "code",
      "execution_count": 6,
      "metadata": {
        "colab": {
          "base_uri": "https://localhost:8080/"
        },
        "id": "xA2K6n9mAb2I",
        "outputId": "06ccbfc6-0b83-431c-ea92-31bf553e4cd0"
      },
      "outputs": [
        {
          "output_type": "stream",
          "name": "stdout",
          "text": [
            "-----BEGIN PUBLIC KEY-----\n",
            "MFkwEwYHKoZIzj0CAQYIKoZIzj0DAQcDQgAEX23bBJxcwmU5K0PO8XDG4/qwPpih\n",
            "ypfuzAb2KwXSMtHW9Qud0PCH3EHcH9/GUYlpKmn4JwcYLkXSVzvRtwxMfg==\n",
            "-----END PUBLIC KEY-----\n",
            "\n",
            "{'pubKey': 'MFkwEwYHKoZIzj0CAQYIKoZIzj0DAQcDQgAEX23bBJxcwmU5K0PO8XDG4/qwPpihypfuzAb2KwXSMtHW9Qud0PCH3EHcH9/GUYlpKmn4JwcYLkXSVzvRtwxMfg==', 'alg': 'SHA256withECDSA'}\n",
            "eyJhbGciOiJFUzI1NiIsInR5cCI6IkpXVCIsImtpZCI6IkFpZ29Ob2Q5cUlSeXFDWERRb0Z5ZWxNRE1vWGZ2RmRUUUtBUXFCUjRyZ0EifQ.eyJpc3MiOiJodHRwczovL3BpbmdnZy5teXdpcmUub3JnL3dhbGxldC9pZGVudGl0eS92MiIsInN1YiI6Ijc5MmNkZmNlYjE4ZjRiZjg4ZmM2ZjkwOWIzZDhiMWMxIiwiYXVkIjoiaHR0cHM6Ly90dnZhbGlkYXRpb24ubXl3aXJlLm9yZy92YWxpZGF0ZS83OTJjZGZjZWIxOGY0YmY4OGZjNmY5MDliM2Q4YjFjMSIsInQiOjIsInYiOiIxLjAiLCJ2YyI6eyJsYW5nIjoiZW4tZW4iLCJjb2EiOiJOTCIsImNvZCI6IkJFIiwicG9hIjoiQU1TIiwicG9kIjoiQlJVIiwicm9hIjoiTkwiLCJyb2QiOiJCRSIsInR5cGUiOlsiciIsInYiLCJ0Il0sImNhdGVnb3J5IjpbIlN0YW5kYXJkIl0sInZhbGlkYXRpb25DbG9jayI6IjIwMjItMDYtMTZUMjA6NTc6MzguMzMzWiIsInZhbGlkRnJvbSI6IjIwMjItMDYtMTdUMjA6NTY6NTguMjcyWiIsInZhbGlkVG8iOiIyMDIyLTA2LTE3VDIxOjU2OjU4LjI3MloifSwianRpIjoiMTM2MzFiMzEtZDZlMC00OGNmLWExYTYtOGQ0ZmIzZmZiZTJkIiwiaWF0IjoxNjU1NDEzMDU4LCJleHAiOjE2NTU0MTY2NTh9.NxhE4bJz0MAz0WvAJVacs5oMabO0obxtgEZoLkz2Li2-TO2EReemkqecahVrvBombxIcnfgMoLlmnUW0WPBzRA\n",
            "b'Q/sJHJBs9W7WxWJjkuIhGQ=='\n",
            "{\n",
            "    \"iss\": \"https://pinggg.mywire.org/wallet/identity/v2\",\n",
            "    \"sub\": \"792cdfceb18f4bf88fc6f909b3d8b1c1\",\n",
            "    \"aud\": \"https://tvvalidation.mywire.org/validate/792cdfceb18f4bf88fc6f909b3d8b1c1\",\n",
            "    \"t\": 2,\n",
            "    \"v\": \"1.0\",\n",
            "    \"vc\": {\n",
            "        \"lang\": \"en-en\",\n",
            "        \"coa\": \"NL\",\n",
            "        \"cod\": \"BE\",\n",
            "        \"poa\": \"AMS\",\n",
            "        \"pod\": \"BRU\",\n",
            "        \"roa\": \"NL\",\n",
            "        \"rod\": \"BE\",\n",
            "        \"type\": [\n",
            "            \"r\",\n",
            "            \"v\",\n",
            "            \"t\"\n",
            "        ],\n",
            "        \"category\": [\n",
            "            \"Standard\"\n",
            "        ],\n",
            "        \"validationClock\": \"2022-06-16T20:57:38.333Z\",\n",
            "        \"validFrom\": \"2022-06-17T20:56:58.272Z\",\n",
            "        \"validTo\": \"2022-06-17T21:56:58.272Z\"\n",
            "    },\n",
            "    \"jti\": \"13631b31-d6e0-48cf-a1a6-8d4fb3ffbe2d\",\n",
            "    \"iat\": 1655413058,\n",
            "    \"exp\": 1655416658\n",
            "}\n",
            "https://tvvalidation.mywire.org/validate/792cdfceb18f4bf88fc6f909b3d8b1c1\n"
          ]
        }
      ],
      "source": [
        "import ecdsa\n",
        "import base64\n",
        "from Crypto.Hash import SHA256\n",
        "from ecdsa.curves import NIST256p\n",
        "\n",
        "#create one-time wallet identity(key-pair) to sign the DCC on upload\n",
        "userkey = ecdsa.SigningKey.generate(curve=NIST256p,hashfunc=SHA256.new) \n",
        "\n",
        "pubkey = userkey.get_verifying_key().to_pem().decode()\n",
        "print(pubkey)\n",
        "pubkey = ''.join(pubkey.split('\\n')[1:-2]) # remove -----BEGIN PUB KEY... lines and concatenate\n",
        "\n",
        "body={\n",
        "    \"pubKey\": pubkey,\n",
        "    \"alg\": \"SHA256withECDSA\"\n",
        "    }\n",
        "\n",
        "# App selects the AccessTokenService in Airline Identity document and requests for Validation Access token. \n",
        "\n",
        "for service in serviceIdentity['service']:\n",
        "    if service['id'].endswith('#AccessTokenService'):\n",
        "        response = requests.post( service['serviceEndpoint'], \n",
        "                    headers={'Authorization': f'Bearer {qr_code_data[\"token\"]}',\n",
        "                             'Content-Type':'application/json', \n",
        "                             'X-Version' : '2.00'\n",
        "                             },\n",
        "                    json = body                               \n",
        "        )\n",
        "       \n",
        "        # This is the access token for the validation service\n",
        "        validator_token = response.text \n",
        "        validator_nonce= base64.b64decode(response.headers['X-Nonce'])\n",
        "        validator_encKey= json.loads(base64.b64decode(response.headers['X-Enc']).decode())\n",
        "        validator_sigKey= json.loads(base64.b64decode(response.headers['X-Sig']).decode())\n",
        "        print(response.text)\n",
        "\n",
        "        token_info = jwt.decode(validator_token, options={\"verify_signature\":False})\n",
        "        print(json.dumps(token_info, indent=4))\n",
        "        print(token_info['aud'])\n",
        "\n",
        "\n",
        "\n"
      ]
    },
    {
      "cell_type": "markdown",
      "metadata": {
        "id": "vCztNXDnNxP6"
      },
      "source": [
        "# Submit the health certificate\n",
        "You can enter the health certificate data into an input field. For testing convenience: just enter \"bob\" to submit DCC for Bob Bouwer\n",
        "\n",
        "Rich source for DCC: https://eu-dcc-validation.web.app/\n",
        "\n",
        "Open the QR-code with Google lens (right click option in Chrome) and \"copy text\" to obtain health certificate in string format \n",
        "\n",
        "\n",
        "##The wallet app now executes the following steps: \n",
        "- choose a random password (32 bytes)\n",
        "- AES-encrypt the DCC with the password from above and the nonce that was obtained together with the access token \n",
        "- encrypt the password with the validation service's public key \n",
        "- sign the encrypted AES-encrypted data with the userkey that has been submitted to get the access token\n",
        "- send JSON data to the validation service:\n",
        "   - kid of validation server's public key that was used to encrypt password\n",
        "   - encrypted dcc data\n",
        "   - signature of encrypted dcc data\n",
        "   - PKI encrypted password for dcc\n",
        "   - constants: encScheme = RSAOAEPWithSHA256AESCBC, sigAlg = SHA256withECDSA\n",
        "   - header: Access token that was previously obtained\n",
        "- decode the response and print it\n",
        "  - Private part of result is feedback on evaluation of individual busness rules\n",
        "  - Public part of result is confirmaion token, which can be made availabe to airline if passenger wishes to do so\n",
        "\n"
      ]
    },
    {
      "cell_type": "code",
      "execution_count": 11,
      "metadata": {
        "id": "pZ4LITwAN0T3",
        "colab": {
          "base_uri": "https://localhost:8080/"
        },
        "outputId": "2bf29bf0-3606-4415-d83d-bf8d371347ba"
      },
      "outputs": [
        {
          "output_type": "stream",
          "name": "stdout",
          "text": [
            "Please paste your HCert, or enter \"bob\": bob\n",
            "NotdWikdAbpdoI=\n",
            "Validate Response 400 DCC was either not present, not decrypted correctly or failed sig check. \n",
            "\n",
            "\n"
          ]
        }
      ],
      "source": [
        "hcert = input('Please paste your HCert, or enter \"bob\": ').strip()  # Option 1: Enter the HC1:-String into the input field\n",
        "\n",
        "if hcert=='bob':\n",
        "  hcert= 'HC1:NCF520B90T9WTWGVLK-49NJ3B0J$OCC*AX*4FBB%91*70J+9FN0ZQC%PQWY04GC+2KD97TK0F90$PC5$CUZC$$5Y$5JPCT3E5JDLA73467463W5/A6..DX%DZJC2/D.H8B%E5$CLPCG/DX-CE1AL1BUIAI3DUOCT3EMPCG/DUOC+0AKECTHG4KCD3DX47B46IL6646H*6Z/E5JD%96IA74R6646307Q$D.UDRYA 96NF6L/5SW6Y57B$D% D3IA4W5646946846.96XJC%+D3KC/SCXJCCWENF6OF64W5KF6946WJCT3EJ+9%JC+QENQ4ZED+EDKWE3EFX3ET34X C:VDG7D82BUVDGECDZCCECRTCUOA04E4WEOPCN8FHZA1+92ZAQB9746VG7TS9FTA1N8I%63:6SM87N8 L6T0AUM8OZA.Q6.K427B.MAA2J9MPDYM+KARBW.LSU39L79-2D15RECO1EQMFP10N7CPWGI6LLPEHMHFN/R1IEV*MR1F%6RPNE07SU$J:/7J:O238.W3V50U50QEWMQDR4'\n",
        "#assert hcert.startswith('HC1:')\n",
        "\n",
        "from base64 import b64decode\n",
        "from random import randint\n",
        "from Crypto.Cipher import PKCS1_OAEP\n",
        "from Crypto.PublicKey import RSA\n",
        "from Crypto.Cipher import AES\n",
        "from Crypto.Util.Padding import pad\n",
        "from ecdsa.util import sigencode_der\n",
        "\n",
        "# Use real random numbers for production instead!\n",
        "password = bytearray([randint(0,255) for i in range(32)])\n",
        "\n",
        "pubkey = validator_sigKey[\"x5c\"][0]\n",
        "keyDER = b64decode(pubkey)\n",
        "keyPub = RSA.importKey(keyDER)\n",
        "validatorkey = keyPub\n",
        "aesCipher = AES.new(password, AES.MODE_CBC,iv=b64decode(validator_nonce))\n",
        "\n",
        "cipher = PKCS1_OAEP.new(validatorkey,hashAlgo=SHA256)\n",
        "cryptKey = cipher.encrypt(password)\n",
        "ciphertext= aesCipher.encrypt(pad(bytes(hcert,'utf-8'),AES.block_size))\n",
        "signature = userkey.sign(ciphertext,hashfunc=SHA256.new,sigencode=sigencode_der)\n",
        "\n",
        "####### validate   ######\n",
        "headers = {'content-type': 'application/json',\n",
        "           'accept': 'application/json',\n",
        "           'X-Version': '2.00',\n",
        "           'Content-Type': 'application/json',\n",
        "           \"Authorization\":\"Bearer \" + validator_token }\n",
        "\n",
        "body = {\"kid\":validator_sigKey[\"kid\"],\n",
        "        \"dcc\":base64.b64encode(ciphertext).decode(),\n",
        "        \"sig\":base64.b64encode(signature).decode(),\n",
        "        \"encKey\":base64.b64encode(cryptKey).decode(),\n",
        "        \"encScheme\":\"RSAOAEPWithSHA256AESCBC\", \n",
        "        \"sigAlg\":\"SHA256withECDSA\"}\n",
        "\n",
        "response = requests.post(token_info['aud'], data=json.dumps(body), headers=headers)\n",
        "print (\"Validate Response\", response.status_code, response.text, '\\n\\n')\n",
        "\n",
        "\n",
        "if response.ok:\n",
        "  validate_result = jwt.decode(response.content, options={\"verify_signature\":False})\n",
        "  print(f'Validate result message: {json.dumps(validate_result, indent=4)}')"
      ]
    },
    {
      "cell_type": "markdown",
      "source": [
        "#completion, push confirmation\n",
        "Wallet offers to push confirmation to airline, as final step. Under consent.\n",
        "\n",
        "On \"yes\", wallet identifies endpoint from airline identity document and POSTs the confirmation token under authentication with invitation token. In final message traeler is advised to go back to airline site"
      ],
      "metadata": {
        "id": "9MVMUt-lOZFg"
      }
    },
    {
      "cell_type": "code",
      "execution_count": null,
      "metadata": {
        "id": "uTBr1ZoLAb2L"
      },
      "outputs": [],
      "source": [
        "ahum = input('Enter yes to push token to arline: ').strip()\n",
        "  # App selects the ConfirmationService in Airline Identity document and posts the confirmation token.\n",
        "for service in serviceIdentity['service']:\n",
        "    if service['id'].endswith('#ConfirmationService-1'):\n",
        "      response = requests.post( service['serviceEndpoint'],\n",
        "                               headers={'Authorization': f'Bearer {qr_code_data[\"token\"]}', #initR-token goes here\n",
        "                               'Content-Type':'application/json', 'X-Version' : '1.0'},\n",
        "                               json = {\"confirmation\": validate_result[\"confirmation\"]})\n",
        "print (\"Undecoded Response\", response.status_code, response.text, '\\n\\n')\n",
        "        \n",
        "print('Please navigate back to airline website')"
      ]
    },
    {
      "cell_type": "code",
      "source": [
        ""
      ],
      "metadata": {
        "id": "DaekPhaNpgLb"
      },
      "execution_count": null,
      "outputs": []
    }
  ],
  "metadata": {
    "colab": {
      "collapsed_sections": [],
      "name": "Wallet App Simulator.ipynb",
      "provenance": []
    },
    "kernelspec": {
      "display_name": "Python 3 (ipykernel)",
      "language": "python",
      "name": "python3"
    },
    "language_info": {
      "codemirror_mode": {
        "name": "ipython",
        "version": 3
      },
      "file_extension": ".py",
      "mimetype": "text/x-python",
      "name": "python",
      "nbconvert_exporter": "python",
      "pygments_lexer": "ipython3",
      "version": "3.9.9"
    }
  },
  "nbformat": 4,
  "nbformat_minor": 0
}